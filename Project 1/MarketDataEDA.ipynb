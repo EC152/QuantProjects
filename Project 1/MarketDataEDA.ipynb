{
 "cells": [
  {
   "cell_type": "markdown",
   "id": "46ab9a29",
   "metadata": {},
   "source": [
    "# Project 1: Market Data Collector & EDA Toolkit\n",
    "\n",
    "## Overview\n",
    "This project is the first in my **Quantitative Finance Projects** series.  \n",
    "It focuses on **collecting, cleaning, and exploring market data** as the foundation for trading strategy research.\n",
    "\n",
    "The goal is to:\n",
    "- Download historical price data for a set of tickers\n",
    "- Perform basic exploratory data analysis (EDA)\n",
    "- Visualise important metrics such as returns, volatility, and drawdowns\n",
    "\n",
    "All work is documented in **Jupyter Notebooks** to clearly show methodology, results, and annotations.\n",
    "\n",
    "---\n",
    "## Features\n",
    "- Pull OHLCV data from Yahoo Finance (`yfinance`)\n",
    "- Compute:\n",
    "  - Daily returns & log returns\n",
    "  - Rolling volatility\n",
    "  - Maximum drawdown\n",
    "- Generate plots:\n",
    "  - Price history\n",
    "  - Rolling volatility\n",
    "  - Drawdown curves\n",
    "- Modular structure for easy extension in future projects\n",
    "\n",
    "---"
   ]
  },
  {
   "cell_type": "code",
   "execution_count": null,
   "id": "71bc5b7e",
   "metadata": {},
   "outputs": [
    {
     "data": {
      "text/plain": [
       "(1255, 1)"
      ]
     },
     "execution_count": 6,
     "metadata": {},
     "output_type": "execute_result"
    }
   ],
   "source": [
    "import os\n",
    "import pathlib\n",
    "from datetime import datetime\n",
    "\n",
    "import numpy as np\n",
    "import pandas as pd\n",
    "import matplotlib.pyplot as plt\n",
    "import yfinance as yf\n",
    "\n",
    "pd.set_option(\"display.float_format\", lambda x: f\"{x:,.6f}\")\n",
    "\n",
    "TICKERS = [\"AAPL\"]\n",
    "PERIOD = \"5y\"\n",
    "INTERVAL = \"1d\"\n",
    "\n",
    "frames = []\n",
    "\n",
    "for t in TICKERS:\n",
    "    df = yf.download(t, period=PERIOD, interval=INTERVAL, auto_adjust=True, progress=False)\n",
    "\n",
    "    if isinstance(df.columns, pd.MultiIndex):\n",
    "        df.columns = df.columns.get_level_values(0)\n",
    "    \n",
    "    df = df.rename_axis(\"date\").reset_index()\n",
    "    df[\"ticker\"] = t\n",
    "    frames.append(df)\n",
    "\n",
    "prices = pd.concat(frames, ignore_index=True)\n",
    "\n",
    "close = (\n",
    "    prices[[\"date\", \"ticker\", \"Close\"]]\n",
    "    .pivot(index=\"date\", columns=\"ticker\", values=\"Close\")\n",
    "    .sort_index())     \n",
    "\n"
   ]
  }
 ],
 "metadata": {
  "kernelspec": {
   "display_name": ".venv",
   "language": "python",
   "name": "python3"
  },
  "language_info": {
   "codemirror_mode": {
    "name": "ipython",
    "version": 3
   },
   "file_extension": ".py",
   "mimetype": "text/x-python",
   "name": "python",
   "nbconvert_exporter": "python",
   "pygments_lexer": "ipython3",
   "version": "3.10.8"
  }
 },
 "nbformat": 4,
 "nbformat_minor": 5
}
